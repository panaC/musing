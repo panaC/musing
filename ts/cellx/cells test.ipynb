{
 "cells": [
  {
   "cell_type": "code",
   "execution_count": 1,
   "id": "d8019cf6",
   "metadata": {},
   "outputs": [],
   "source": [
    "const { cellx } = require(\"cellx\")\n"
   ]
  },
  {
   "cell_type": "code",
   "execution_count": 2,
   "id": "5349c276",
   "metadata": {},
   "outputs": [],
   "source": [
    "let user = {\n",
    "firstName: cellx('Matroskin'),\n",
    "           lastName: cellx('Cat'),\n",
    "\n",
    "           fullName: cellx(function() {\n",
    "               return (user.firstName() + ' ' + user.lastName()).trim();\n",
    "               })\n",
    "};\n"
   ]
  },
  {
   "cell_type": "code",
   "execution_count": 3,
   "id": "068b0153",
   "metadata": {},
   "outputs": [
    {
     "name": "stdout",
     "output_type": "stream",
     "text": [
      "Matroskin Cat\n"
     ]
    },
    {
     "data": {
      "text/plain": [
       "'Dog'"
      ]
     },
     "execution_count": 3,
     "metadata": {},
     "output_type": "execute_result"
    },
    {
     "name": "stdout",
     "output_type": "stream",
     "text": [
      "fullName: Sharik Dog\n"
     ]
    }
   ],
   "source": [
    "user.fullName.subscribe(function() {\n",
    "    console.log('fullName: ' + user.fullName());\n",
    "    });\n",
    "\n",
    "console.log(user.fullName());\n",
    "// => 'Matroskin Cat'\n",
    "\n",
    "user.firstName('Sharik');\n",
    "user.lastName('Dog');\n",
    "// => 'fullName: Sharik Dog'"
   ]
  },
  {
   "cell_type": "code",
   "execution_count": 4,
   "id": "d0dea881",
   "metadata": {},
   "outputs": [
    {
     "data": {
      "text/plain": [
       "'world'"
      ]
     },
     "execution_count": 4,
     "metadata": {},
     "output_type": "execute_result"
    },
    {
     "name": "stdout",
     "output_type": "stream",
     "text": [
      "fullName: hello world\n"
     ]
    }
   ],
   "source": [
    "user.firstName('hello');\n",
    "user.lastName('world');"
   ]
  },
  {
   "cell_type": "code",
   "execution_count": 5,
   "id": "098ce646",
   "metadata": {},
   "outputs": [
    {
     "name": "stdout",
     "output_type": "stream",
     "text": [
      "fullName: lolo nonon\n"
     ]
    }
   ],
   "source": [
    "user.firstName('Sharik');\n",
    "user.lastName('Dog');\n",
    "// => 'fullName: Sharik Dog'\n",
    "\n",
    "user.firstName('hello');\n",
    "user.lastName('world');\n",
    "\n",
    "process.nextTick(() => {\n",
    "\n",
    "    user.firstName('lolo');\n",
    "    user.lastName('nonon');\n",
    "    });\n"
   ]
  },
  {
   "cell_type": "code",
   "execution_count": null,
   "id": "27b9d36a",
   "metadata": {},
   "outputs": [],
   "source": []
  }
 ],
 "metadata": {
  "kernelspec": {
   "display_name": "Javascript (Node.js)",
   "language": "javascript",
   "name": "javascript"
  },
  "language_info": {
   "file_extension": ".js",
   "mimetype": "application/javascript",
   "name": "javascript",
   "version": "14.16.1"
  }
 },
 "nbformat": 4,
 "nbformat_minor": 5
}
