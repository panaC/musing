{
 "cells": [
  {
   "cell_type": "code",
   "execution_count": null,
   "id": "b257df8a",
   "metadata": {},
   "outputs": [],
   "source": []
  },
  {
   "cell_type": "code",
   "execution_count": null,
   "id": "f02c27d3",
   "metadata": {},
   "outputs": [],
   "source": []
  },
  {
   "cell_type": "code",
   "execution_count": null,
   "id": "7fb1fc38",
   "metadata": {},
   "outputs": [],
   "source": []
  },
  {
   "cell_type": "code",
   "execution_count": null,
   "id": "55413948",
   "metadata": {},
   "outputs": [],
   "source": []
  },
  {
   "cell_type": "code",
   "execution_count": 1,
   "id": "a45cecdb",
   "metadata": {},
   "outputs": [
    {
     "data": {
      "text/plain": [
       "4-element Vector{Int64}:\n",
       " 1\n",
       " 2\n",
       " 3\n",
       " 4"
      ]
     },
     "execution_count": 1,
     "metadata": {},
     "output_type": "execute_result"
    }
   ],
   "source": [
    "a = [1,2,3,4]"
   ]
  },
  {
   "cell_type": "code",
   "execution_count": 2,
   "id": "fca2b831",
   "metadata": {},
   "outputs": [],
   "source": [
    "f(x,y) = 3x + 4y;\n"
   ]
  },
  {
   "cell_type": "code",
   "execution_count": 4,
   "id": "36fda325",
   "metadata": {},
   "outputs": [
    {
     "ename": "LoadError",
     "evalue": "MethodError: no method matching +(::Float64, ::Vector{Int64})\nFor element-wise addition, use broadcasting with dot syntax: scalar .+ array\n\u001b[0mClosest candidates are:\n\u001b[0m  +(::Any, ::Any, \u001b[91m::Any\u001b[39m, \u001b[91m::Any...\u001b[39m) at operators.jl:560\n\u001b[0m  +(::Union{Float16, Float32, Float64}, \u001b[91m::BigFloat\u001b[39m) at mpfr.jl:392\n\u001b[0m  +(\u001b[91m::SparseArrays.AbstractSparseMatrixCSC\u001b[39m, ::Array) at /Users/julia/buildbot/worker/package_macos64/build/usr/share/julia/stdlib/v1.6/SparseArrays/src/sparsematrix.jl:1744\n\u001b[0m  ...",
     "output_type": "error",
     "traceback": [
      "MethodError: no method matching +(::Float64, ::Vector{Int64})\nFor element-wise addition, use broadcasting with dot syntax: scalar .+ array\n\u001b[0mClosest candidates are:\n\u001b[0m  +(::Any, ::Any, \u001b[91m::Any\u001b[39m, \u001b[91m::Any...\u001b[39m) at operators.jl:560\n\u001b[0m  +(::Union{Float16, Float32, Float64}, \u001b[91m::BigFloat\u001b[39m) at mpfr.jl:392\n\u001b[0m  +(\u001b[91m::SparseArrays.AbstractSparseMatrixCSC\u001b[39m, ::Array) at /Users/julia/buildbot/worker/package_macos64/build/usr/share/julia/stdlib/v1.6/SparseArrays/src/sparsematrix.jl:1744\n\u001b[0m  ...",
      "",
      "Stacktrace:",
      " [1] f(x::Irrational{:π}, y::Vector{Int64})",
      "   @ Main ./In[2]:1",
      " [2] top-level scope",
      "   @ In[4]:1",
      " [3] eval",
      "   @ ./boot.jl:360 [inlined]",
      " [4] include_string(mapexpr::typeof(REPL.softscope), mod::Module, code::String, filename::String)",
      "   @ Base ./loading.jl:1116"
     ]
    }
   ],
   "source": [
    "f(pi, a)"
   ]
  },
  {
   "cell_type": "code",
   "execution_count": 5,
   "id": "3ba73aaf",
   "metadata": {},
   "outputs": [
    {
     "data": {
      "text/plain": [
       "4-element Vector{Float64}:\n",
       " 13.42477796076938\n",
       " 17.42477796076938\n",
       " 21.42477796076938\n",
       " 25.42477796076938"
      ]
     },
     "execution_count": 5,
     "metadata": {},
     "output_type": "execute_result"
    }
   ],
   "source": [
    "f.(pi, a)"
   ]
  },
  {
   "cell_type": "code",
   "execution_count": 6,
   "id": "0e15159f",
   "metadata": {},
   "outputs": [
    {
     "data": {
      "text/plain": [
       "4-element Vector{Float64}:\n",
       " 13.42477796076938\n",
       " 17.42477796076938\n",
       " 21.42477796076938\n",
       " 25.42477796076938"
      ]
     },
     "execution_count": 6,
     "metadata": {},
     "output_type": "execute_result"
    }
   ],
   "source": [
    "broadcast(f, pi, a)"
   ]
  },
  {
   "cell_type": "code",
   "execution_count": 7,
   "id": "32e5a907",
   "metadata": {},
   "outputs": [
    {
     "data": {
      "text/plain": [
       "3"
      ]
     },
     "execution_count": 7,
     "metadata": {},
     "output_type": "execute_result"
    }
   ],
   "source": [
    "z = begin\n",
    "           x = 1\n",
    "           y = 2\n",
    "           x + y\n",
    "       end"
   ]
  },
  {
   "cell_type": "code",
   "execution_count": 10,
   "id": "dc9406a7",
   "metadata": {},
   "outputs": [
    {
     "ename": "LoadError",
     "evalue": "syntax: type declarations on global variables are not yet supported",
     "output_type": "error",
     "traceback": [
      "syntax: type declarations on global variables are not yet supported",
      "",
      "Stacktrace:",
      " [1] top-level scope",
      "   @ In[10]:1",
      " [2] eval",
      "   @ ./boot.jl:360 [inlined]",
      " [3] include_string(mapexpr::typeof(REPL.softscope), mod::Module, code::String, filename::String)",
      "   @ Base ./loading.jl:1116"
     ]
    }
   ],
   "source": [
    "v::Int = 4\n"
   ]
  },
  {
   "cell_type": "code",
   "execution_count": 18,
   "id": "3caa796f",
   "metadata": {},
   "outputs": [
    {
     "ename": "LoadError",
     "evalue": "syntax: type declarations on global variables are not yet supported",
     "output_type": "error",
     "traceback": [
      "syntax: type declarations on global variables are not yet supported",
      "",
      "Stacktrace:",
      " [1] top-level scope",
      "   @ In[18]:1",
      " [2] eval",
      "   @ ./boot.jl:360 [inlined]",
      " [3] include_string(mapexpr::typeof(REPL.softscope), mod::Module, code::String, filename::String)",
      "   @ Base ./loading.jl:1116"
     ]
    }
   ],
   "source": [
    "const t::Int = 4"
   ]
  },
  {
   "cell_type": "code",
   "execution_count": 19,
   "id": "2cd056b4",
   "metadata": {},
   "outputs": [
    {
     "data": {
      "text/plain": [
       "foo (generic function with 1 method)"
      ]
     },
     "execution_count": 19,
     "metadata": {},
     "output_type": "execute_result"
    }
   ],
   "source": [
    "function foo()\n",
    "           x::Int8 = 100\n",
    "           x\n",
    "       end\n"
   ]
  },
  {
   "cell_type": "code",
   "execution_count": 20,
   "id": "65cde459",
   "metadata": {},
   "outputs": [
    {
     "data": {
      "text/plain": [
       "100"
      ]
     },
     "execution_count": 20,
     "metadata": {},
     "output_type": "execute_result"
    }
   ],
   "source": [
    "foo()"
   ]
  },
  {
   "cell_type": "code",
   "execution_count": 21,
   "id": "ff2bb4a3",
   "metadata": {},
   "outputs": [
    {
     "data": {
      "text/plain": [
       "foo2 (generic function with 1 method)"
      ]
     },
     "execution_count": 21,
     "metadata": {},
     "output_type": "execute_result"
    }
   ],
   "source": [
    "function foo2()\n",
    "           x::Int8 = 100\n",
    "           return x\n",
    "       end"
   ]
  },
  {
   "cell_type": "code",
   "execution_count": 22,
   "id": "980abc9e",
   "metadata": {},
   "outputs": [
    {
     "data": {
      "text/plain": [
       "100"
      ]
     },
     "execution_count": 22,
     "metadata": {},
     "output_type": "execute_result"
    }
   ],
   "source": [
    "foo2()"
   ]
  },
  {
   "cell_type": "code",
   "execution_count": 27,
   "id": "0a797082",
   "metadata": {},
   "outputs": [
    {
     "data": {
      "text/plain": [
       "foo2 (generic function with 1 method)"
      ]
     },
     "execution_count": 27,
     "metadata": {},
     "output_type": "execute_result"
    }
   ],
   "source": [
    "function foo2()\n",
    "           x::Int8 = 100\n",
    "           println(\"before\")\n",
    "           return x\n",
    "           println(\"after\")\n",
    "       end"
   ]
  },
  {
   "cell_type": "code",
   "execution_count": 28,
   "id": "d6869c41",
   "metadata": {},
   "outputs": [
    {
     "name": "stdout",
     "output_type": "stream",
     "text": [
      "before\n"
     ]
    },
    {
     "data": {
      "text/plain": [
       "100"
      ]
     },
     "execution_count": 28,
     "metadata": {},
     "output_type": "execute_result"
    }
   ],
   "source": [
    "foo2()"
   ]
  },
  {
   "cell_type": "code",
   "execution_count": 32,
   "id": "3943e83b",
   "metadata": {},
   "outputs": [
    {
     "data": {
      "text/plain": [
       "foo2 (generic function with 1 method)"
      ]
     },
     "execution_count": 32,
     "metadata": {},
     "output_type": "execute_result"
    }
   ],
   "source": [
    "function foo2()\n",
    "           x::Int8 = 100\n",
    "           println(\"before\")\n",
    "           x\n",
    "           println(\"after\")\n",
    "           x\n",
    "       end"
   ]
  },
  {
   "cell_type": "code",
   "execution_count": 33,
   "id": "0b0a92f8",
   "metadata": {},
   "outputs": [
    {
     "name": "stdout",
     "output_type": "stream",
     "text": [
      "before\n",
      "after\n"
     ]
    },
    {
     "data": {
      "text/plain": [
       "100"
      ]
     },
     "execution_count": 33,
     "metadata": {},
     "output_type": "execute_result"
    }
   ],
   "source": [
    "foo2()\n"
   ]
  },
  {
   "cell_type": "code",
   "execution_count": null,
   "id": "7969267a",
   "metadata": {},
   "outputs": [],
   "source": []
  }
 ],
 "metadata": {
  "kernelspec": {
   "display_name": "Julia 1.6.2",
   "language": "julia",
   "name": "julia-1.6"
  },
  "language_info": {
   "file_extension": ".jl",
   "mimetype": "application/julia",
   "name": "julia",
   "version": "1.6.2"
  }
 },
 "nbformat": 4,
 "nbformat_minor": 5
}
