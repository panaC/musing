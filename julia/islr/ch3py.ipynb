{
 "cells": [
  {
   "cell_type": "code",
   "execution_count": 2,
   "id": "e95b7431",
   "metadata": {},
   "outputs": [],
   "source": [
    "import numpy as np"
   ]
  },
  {
   "cell_type": "code",
   "execution_count": 3,
   "id": "93b884a3",
   "metadata": {},
   "outputs": [
    {
     "data": {
      "text/plain": [
       "<module 'numpy' from '/opt/homebrew/lib/python3.9/site-packages/numpy/__init__.py'>"
      ]
     },
     "execution_count": 3,
     "metadata": {},
     "output_type": "execute_result"
    }
   ],
   "source": [
    "np"
   ]
  },
  {
   "cell_type": "code",
   "execution_count": 6,
   "id": "3448b8e7",
   "metadata": {},
   "outputs": [
    {
     "data": {
      "text/plain": [
       "array([0, 1, 2, 3, 4, 5])"
      ]
     },
     "execution_count": 6,
     "metadata": {},
     "output_type": "execute_result"
    }
   ],
   "source": [
    "a = np.arange(6)\n",
    "a"
   ]
  },
  {
   "cell_type": "code",
   "execution_count": 7,
   "id": "b7577b10",
   "metadata": {},
   "outputs": [
    {
     "data": {
      "text/plain": [
       "array([[0, 1, 2, 3, 4, 5]])"
      ]
     },
     "execution_count": 7,
     "metadata": {},
     "output_type": "execute_result"
    }
   ],
   "source": [
    "a2 = a[np.newaxis, :]\n",
    "a2"
   ]
  },
  {
   "cell_type": "code",
   "execution_count": 8,
   "id": "2d33f478",
   "metadata": {},
   "outputs": [
    {
     "data": {
      "text/plain": [
       "(1, 6)"
      ]
     },
     "execution_count": 8,
     "metadata": {},
     "output_type": "execute_result"
    }
   ],
   "source": [
    "a2.shape"
   ]
  },
  {
   "cell_type": "code",
   "execution_count": null,
   "id": "a531b00e",
   "metadata": {},
   "outputs": [],
   "source": []
  },
  {
   "cell_type": "code",
   "execution_count": 57,
   "id": "ba6daa04",
   "metadata": {},
   "outputs": [],
   "source": [
    "rng = np.random.default_rng(1234)\n",
    "vals = rng.standard_normal(100)"
   ]
  },
  {
   "cell_type": "code",
   "execution_count": 58,
   "id": "d38eea6e",
   "metadata": {},
   "outputs": [
    {
     "data": {
      "text/plain": [
       "array([-1.60383681,  0.06409991,  0.7408913 ,  0.15261919,  0.86374389,\n",
       "        2.91309922, -1.47882336,  0.94547297, -1.66613546,  0.34374458,\n",
       "       -0.51244371,  1.32375896, -0.86028019,  0.5194932 , -1.26514372,\n",
       "       -2.15913901,  0.43473395,  1.73328932,  0.52013416, -1.00216579,\n",
       "        0.26834554,  0.7671747 ,  1.19127203, -1.15741081,  0.6962794 ,\n",
       "        0.35138369, -0.03241508,  0.01318158, -0.67924997, -0.62053203,\n",
       "        1.33121422,  0.25883851, -0.48148392, -2.49178962, -0.87656377,\n",
       "       -0.50550913, -1.28312917, -1.33032842,  0.82599258, -0.24721501,\n",
       "       -1.69970612, -1.33515287, -0.29963889,  1.1148069 , -1.50640885,\n",
       "        1.59011208, -0.48732518, -1.71110219,  0.51309021,  1.43709192,\n",
       "       -0.22180411,  0.6488165 , -0.31789119, -0.01097826,  1.6654165 ,\n",
       "        0.89578643, -1.20260119,  2.79962711, -1.02119625,  0.848107  ,\n",
       "        0.49808261, -0.08444164,  0.20249333, -0.16380578,  0.83705971,\n",
       "       -0.71243966, -1.17414987,  0.47526795,  1.73739481, -0.13664366,\n",
       "        1.70331673, -0.08821835,  1.55724215,  0.96340988,  0.52272616,\n",
       "        0.93715039, -0.8369093 ,  0.09806809, -1.57055339, -1.77987789,\n",
       "        0.9188363 , -0.14906778,  1.00563646,  0.13101789, -0.77304711,\n",
       "        2.89430742,  1.37707845,  0.17145582,  0.02224223,  1.65268582,\n",
       "       -0.3218752 ,  1.52456461,  0.65460535, -1.32182602,  0.74324538,\n",
       "        1.11738076,  0.54645944,  0.96405306,  1.37477867, -0.49128286])"
      ]
     },
     "execution_count": 58,
     "metadata": {},
     "output_type": "execute_result"
    }
   ],
   "source": [
    "\n",
    "vals"
   ]
  },
  {
   "cell_type": "code",
   "execution_count": 52,
   "id": "6a3a579d",
   "metadata": {},
   "outputs": [
    {
     "data": {
      "text/plain": [
       "1.1204522311616263"
      ]
     },
     "execution_count": 52,
     "metadata": {},
     "output_type": "execute_result"
    }
   ],
   "source": [
    "np.std(vals)"
   ]
  },
  {
   "cell_type": "code",
   "execution_count": null,
   "id": "1e3db061",
   "metadata": {},
   "outputs": [],
   "source": []
  }
 ],
 "metadata": {
  "kernelspec": {
   "display_name": "Python 3",
   "language": "python",
   "name": "python3"
  },
  "language_info": {
   "codemirror_mode": {
    "name": "ipython",
    "version": 3
   },
   "file_extension": ".py",
   "mimetype": "text/x-python",
   "name": "python",
   "nbconvert_exporter": "python",
   "pygments_lexer": "ipython3",
   "version": "3.9.2"
  }
 },
 "nbformat": 4,
 "nbformat_minor": 5
}
