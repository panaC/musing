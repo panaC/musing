{
 "cells": [
  {
   "cell_type": "code",
   "execution_count": 51,
   "id": "22ef46e6",
   "metadata": {},
   "outputs": [],
   "source": [
    "\n",
    "using DataFrames, CSV, PyPlot"
   ]
  },
  {
   "cell_type": "code",
   "execution_count": 55,
   "id": "74cd4cc6",
   "metadata": {},
   "outputs": [
    {
     "data": {
      "text/latex": [
       "The analogue of IPython's \\texttt{\\%matplotlib} in Julia is to use the \\href{https://github.com/stevengj/PyPlot.jl}{PyPlot package}, which gives a Julia interface to Matplotlib including inline plots in IJulia notebooks.   (The equivalent of \\texttt{numpy} is already loaded by default in Julia.)\n",
       "\n",
       "Given PyPlot, the analogue of \\texttt{\\%matplotlib inline} is \\texttt{using PyPlot}, since PyPlot defaults to inline plots in IJulia.\n",
       "\n",
       "To enable separate GUI windows in PyPlot, analogous to \\texttt{\\%matplotlib}, do \\texttt{using PyPlot; pygui(true)}.   To specify a particular gui backend, analogous to \\texttt{\\%matplotlib gui}, you can either do \\texttt{using PyPlot; pygui(:gui); using PyPlot; pygui(true)} (where \\texttt{gui} is \\texttt{wx}, \\texttt{qt}, \\texttt{tk}, or \\texttt{gtk}), or you can do \\texttt{ENV[\"MPLBACKEND\"]=backend; using PyPlot; pygui(true)} (where \\texttt{backend} is the name of a Matplotlib backend, like \\texttt{tkagg}).\n",
       "\n",
       "For more options, see the PyPlot documentation.\n",
       "\n"
      ],
      "text/markdown": [
       "The analogue of IPython's `%matplotlib` in Julia is to use the [PyPlot package](https://github.com/stevengj/PyPlot.jl), which gives a Julia interface to Matplotlib including inline plots in IJulia notebooks.   (The equivalent of `numpy` is already loaded by default in Julia.)\n",
       "\n",
       "Given PyPlot, the analogue of `%matplotlib inline` is `using PyPlot`, since PyPlot defaults to inline plots in IJulia.\n",
       "\n",
       "To enable separate GUI windows in PyPlot, analogous to `%matplotlib`, do `using PyPlot; pygui(true)`.   To specify a particular gui backend, analogous to `%matplotlib gui`, you can either do `using PyPlot; pygui(:gui); using PyPlot; pygui(true)` (where `gui` is `wx`, `qt`, `tk`, or `gtk`), or you can do `ENV[\"MPLBACKEND\"]=backend; using PyPlot; pygui(true)` (where `backend` is the name of a Matplotlib backend, like `tkagg`).\n",
       "\n",
       "For more options, see the PyPlot documentation.\n"
      ],
      "text/plain": [
       "  The analogue of IPython's \u001b[36m%matplotlib\u001b[39m in Julia is to use the PyPlot package\n",
       "  (https://github.com/stevengj/PyPlot.jl), which gives a Julia interface to\n",
       "  Matplotlib including inline plots in IJulia notebooks. (The equivalent of\n",
       "  \u001b[36mnumpy\u001b[39m is already loaded by default in Julia.)\n",
       "\n",
       "  Given PyPlot, the analogue of \u001b[36m%matplotlib inline\u001b[39m is \u001b[36musing PyPlot\u001b[39m, since\n",
       "  PyPlot defaults to inline plots in IJulia.\n",
       "\n",
       "  To enable separate GUI windows in PyPlot, analogous to \u001b[36m%matplotlib\u001b[39m, do \u001b[36musing\n",
       "  PyPlot; pygui(true)\u001b[39m. To specify a particular gui backend, analogous to\n",
       "  \u001b[36m%matplotlib gui\u001b[39m, you can either do \u001b[36musing PyPlot; pygui(:gui); using PyPlot;\n",
       "  pygui(true)\u001b[39m (where \u001b[36mgui\u001b[39m is \u001b[36mwx\u001b[39m, \u001b[36mqt\u001b[39m, \u001b[36mtk\u001b[39m, or \u001b[36mgtk\u001b[39m), or you can do\n",
       "  \u001b[36mENV[\"MPLBACKEND\"]=backend; using PyPlot; pygui(true)\u001b[39m (where \u001b[36mbackend\u001b[39m is the\n",
       "  name of a Matplotlib backend, like \u001b[36mtkagg\u001b[39m).\n",
       "\n",
       "  For more options, see the PyPlot documentation."
      ]
     },
     "metadata": {},
     "output_type": "display_data"
    }
   ],
   "source": []
  },
  {
   "cell_type": "code",
   "execution_count": 43,
   "id": "b20524ea",
   "metadata": {},
   "outputs": [
    {
     "data": {
      "text/html": [
       "<div class=\"data-frame\"><p>200 rows × 5 columns</p><table class=\"data-frame\"><thead><tr><th></th><th>Column1</th><th>TV</th><th>radio</th><th>newspaper</th><th>sales</th></tr><tr><th></th><th title=\"Int64\">Int64</th><th title=\"Float64\">Float64</th><th title=\"Float64\">Float64</th><th title=\"Float64\">Float64</th><th title=\"Float64\">Float64</th></tr></thead><tbody><tr><th>1</th><td>1</td><td>230.1</td><td>37.8</td><td>69.2</td><td>22.1</td></tr><tr><th>2</th><td>2</td><td>44.5</td><td>39.3</td><td>45.1</td><td>10.4</td></tr><tr><th>3</th><td>3</td><td>17.2</td><td>45.9</td><td>69.3</td><td>9.3</td></tr><tr><th>4</th><td>4</td><td>151.5</td><td>41.3</td><td>58.5</td><td>18.5</td></tr><tr><th>5</th><td>5</td><td>180.8</td><td>10.8</td><td>58.4</td><td>12.9</td></tr><tr><th>6</th><td>6</td><td>8.7</td><td>48.9</td><td>75.0</td><td>7.2</td></tr><tr><th>7</th><td>7</td><td>57.5</td><td>32.8</td><td>23.5</td><td>11.8</td></tr><tr><th>8</th><td>8</td><td>120.2</td><td>19.6</td><td>11.6</td><td>13.2</td></tr><tr><th>9</th><td>9</td><td>8.6</td><td>2.1</td><td>1.0</td><td>4.8</td></tr><tr><th>10</th><td>10</td><td>199.8</td><td>2.6</td><td>21.2</td><td>10.6</td></tr><tr><th>11</th><td>11</td><td>66.1</td><td>5.8</td><td>24.2</td><td>8.6</td></tr><tr><th>12</th><td>12</td><td>214.7</td><td>24.0</td><td>4.0</td><td>17.4</td></tr><tr><th>13</th><td>13</td><td>23.8</td><td>35.1</td><td>65.9</td><td>9.2</td></tr><tr><th>14</th><td>14</td><td>97.5</td><td>7.6</td><td>7.2</td><td>9.7</td></tr><tr><th>15</th><td>15</td><td>204.1</td><td>32.9</td><td>46.0</td><td>19.0</td></tr><tr><th>16</th><td>16</td><td>195.4</td><td>47.7</td><td>52.9</td><td>22.4</td></tr><tr><th>17</th><td>17</td><td>67.8</td><td>36.6</td><td>114.0</td><td>12.5</td></tr><tr><th>18</th><td>18</td><td>281.4</td><td>39.6</td><td>55.8</td><td>24.4</td></tr><tr><th>19</th><td>19</td><td>69.2</td><td>20.5</td><td>18.3</td><td>11.3</td></tr><tr><th>20</th><td>20</td><td>147.3</td><td>23.9</td><td>19.1</td><td>14.6</td></tr><tr><th>21</th><td>21</td><td>218.4</td><td>27.7</td><td>53.4</td><td>18.0</td></tr><tr><th>22</th><td>22</td><td>237.4</td><td>5.1</td><td>23.5</td><td>12.5</td></tr><tr><th>23</th><td>23</td><td>13.2</td><td>15.9</td><td>49.6</td><td>5.6</td></tr><tr><th>24</th><td>24</td><td>228.3</td><td>16.9</td><td>26.2</td><td>15.5</td></tr><tr><th>25</th><td>25</td><td>62.3</td><td>12.6</td><td>18.3</td><td>9.7</td></tr><tr><th>26</th><td>26</td><td>262.9</td><td>3.5</td><td>19.5</td><td>12.0</td></tr><tr><th>27</th><td>27</td><td>142.9</td><td>29.3</td><td>12.6</td><td>15.0</td></tr><tr><th>28</th><td>28</td><td>240.1</td><td>16.7</td><td>22.9</td><td>15.9</td></tr><tr><th>29</th><td>29</td><td>248.8</td><td>27.1</td><td>22.9</td><td>18.9</td></tr><tr><th>30</th><td>30</td><td>70.6</td><td>16.0</td><td>40.8</td><td>10.5</td></tr><tr><th>&vellip;</th><td>&vellip;</td><td>&vellip;</td><td>&vellip;</td><td>&vellip;</td><td>&vellip;</td></tr></tbody></table></div>"
      ],
      "text/latex": [
       "\\begin{tabular}{r|ccccc}\n",
       "\t& Column1 & TV & radio & newspaper & sales\\\\\n",
       "\t\\hline\n",
       "\t& Int64 & Float64 & Float64 & Float64 & Float64\\\\\n",
       "\t\\hline\n",
       "\t1 & 1 & 230.1 & 37.8 & 69.2 & 22.1 \\\\\n",
       "\t2 & 2 & 44.5 & 39.3 & 45.1 & 10.4 \\\\\n",
       "\t3 & 3 & 17.2 & 45.9 & 69.3 & 9.3 \\\\\n",
       "\t4 & 4 & 151.5 & 41.3 & 58.5 & 18.5 \\\\\n",
       "\t5 & 5 & 180.8 & 10.8 & 58.4 & 12.9 \\\\\n",
       "\t6 & 6 & 8.7 & 48.9 & 75.0 & 7.2 \\\\\n",
       "\t7 & 7 & 57.5 & 32.8 & 23.5 & 11.8 \\\\\n",
       "\t8 & 8 & 120.2 & 19.6 & 11.6 & 13.2 \\\\\n",
       "\t9 & 9 & 8.6 & 2.1 & 1.0 & 4.8 \\\\\n",
       "\t10 & 10 & 199.8 & 2.6 & 21.2 & 10.6 \\\\\n",
       "\t11 & 11 & 66.1 & 5.8 & 24.2 & 8.6 \\\\\n",
       "\t12 & 12 & 214.7 & 24.0 & 4.0 & 17.4 \\\\\n",
       "\t13 & 13 & 23.8 & 35.1 & 65.9 & 9.2 \\\\\n",
       "\t14 & 14 & 97.5 & 7.6 & 7.2 & 9.7 \\\\\n",
       "\t15 & 15 & 204.1 & 32.9 & 46.0 & 19.0 \\\\\n",
       "\t16 & 16 & 195.4 & 47.7 & 52.9 & 22.4 \\\\\n",
       "\t17 & 17 & 67.8 & 36.6 & 114.0 & 12.5 \\\\\n",
       "\t18 & 18 & 281.4 & 39.6 & 55.8 & 24.4 \\\\\n",
       "\t19 & 19 & 69.2 & 20.5 & 18.3 & 11.3 \\\\\n",
       "\t20 & 20 & 147.3 & 23.9 & 19.1 & 14.6 \\\\\n",
       "\t21 & 21 & 218.4 & 27.7 & 53.4 & 18.0 \\\\\n",
       "\t22 & 22 & 237.4 & 5.1 & 23.5 & 12.5 \\\\\n",
       "\t23 & 23 & 13.2 & 15.9 & 49.6 & 5.6 \\\\\n",
       "\t24 & 24 & 228.3 & 16.9 & 26.2 & 15.5 \\\\\n",
       "\t25 & 25 & 62.3 & 12.6 & 18.3 & 9.7 \\\\\n",
       "\t26 & 26 & 262.9 & 3.5 & 19.5 & 12.0 \\\\\n",
       "\t27 & 27 & 142.9 & 29.3 & 12.6 & 15.0 \\\\\n",
       "\t28 & 28 & 240.1 & 16.7 & 22.9 & 15.9 \\\\\n",
       "\t29 & 29 & 248.8 & 27.1 & 22.9 & 18.9 \\\\\n",
       "\t30 & 30 & 70.6 & 16.0 & 40.8 & 10.5 \\\\\n",
       "\t$\\dots$ & $\\dots$ & $\\dots$ & $\\dots$ & $\\dots$ & $\\dots$ \\\\\n",
       "\\end{tabular}\n"
      ],
      "text/plain": [
       "\u001b[1m200×5 DataFrame\u001b[0m\n",
       "\u001b[1m Row \u001b[0m│\u001b[1m Column1 \u001b[0m\u001b[1m TV      \u001b[0m\u001b[1m radio   \u001b[0m\u001b[1m newspaper \u001b[0m\u001b[1m sales   \u001b[0m\n",
       "\u001b[1m     \u001b[0m│\u001b[90m Int64   \u001b[0m\u001b[90m Float64 \u001b[0m\u001b[90m Float64 \u001b[0m\u001b[90m Float64   \u001b[0m\u001b[90m Float64 \u001b[0m\n",
       "─────┼───────────────────────────────────────────────\n",
       "   1 │       1    230.1     37.8       69.2     22.1\n",
       "   2 │       2     44.5     39.3       45.1     10.4\n",
       "   3 │       3     17.2     45.9       69.3      9.3\n",
       "   4 │       4    151.5     41.3       58.5     18.5\n",
       "   5 │       5    180.8     10.8       58.4     12.9\n",
       "   6 │       6      8.7     48.9       75.0      7.2\n",
       "   7 │       7     57.5     32.8       23.5     11.8\n",
       "   8 │       8    120.2     19.6       11.6     13.2\n",
       "   9 │       9      8.6      2.1        1.0      4.8\n",
       "  10 │      10    199.8      2.6       21.2     10.6\n",
       "  11 │      11     66.1      5.8       24.2      8.6\n",
       "  ⋮  │    ⋮        ⋮        ⋮         ⋮         ⋮\n",
       " 191 │     191     39.5     41.1        5.8     10.8\n",
       " 192 │     192     75.5     10.8        6.0      9.9\n",
       " 193 │     193     17.2      4.1       31.6      5.9\n",
       " 194 │     194    166.8     42.0        3.6     19.6\n",
       " 195 │     195    149.7     35.6        6.0     17.3\n",
       " 196 │     196     38.2      3.7       13.8      7.6\n",
       " 197 │     197     94.2      4.9        8.1      9.7\n",
       " 198 │     198    177.0      9.3        6.4     12.8\n",
       " 199 │     199    283.6     42.0       66.2     25.5\n",
       " 200 │     200    232.1      8.6        8.7     13.4\n",
       "\u001b[36m                                     179 rows omitted\u001b[0m"
      ]
     },
     "execution_count": 43,
     "metadata": {},
     "output_type": "execute_result"
    }
   ],
   "source": [
    "data = CSV.File(\"Advertising.csv\") |> DataFrame"
   ]
  },
  {
   "cell_type": "code",
   "execution_count": 44,
   "id": "e5c2883b",
   "metadata": {},
   "outputs": [
    {
     "data": {
      "text/plain": [
       "200-element Vector{Float64}:\n",
       " 230.1\n",
       "  44.5\n",
       "  17.2\n",
       " 151.5\n",
       " 180.8\n",
       "   8.7\n",
       "  57.5\n",
       " 120.2\n",
       "   8.6\n",
       " 199.8\n",
       "  66.1\n",
       " 214.7\n",
       "  23.8\n",
       "   ⋮\n",
       " 286.0\n",
       "  18.7\n",
       "  39.5\n",
       "  75.5\n",
       "  17.2\n",
       " 166.8\n",
       " 149.7\n",
       "  38.2\n",
       "  94.2\n",
       " 177.0\n",
       " 283.6\n",
       " 232.1"
      ]
     },
     "execution_count": 44,
     "metadata": {},
     "output_type": "execute_result"
    }
   ],
   "source": [
    "tv = data[!, \"TV\"]"
   ]
  },
  {
   "cell_type": "code",
   "execution_count": 45,
   "id": "f8fd59fe",
   "metadata": {},
   "outputs": [
    {
     "data": {
      "text/plain": [
       "200-element Vector{Float64}:\n",
       " 22.1\n",
       " 10.4\n",
       "  9.3\n",
       " 18.5\n",
       " 12.9\n",
       "  7.2\n",
       " 11.8\n",
       " 13.2\n",
       "  4.8\n",
       " 10.6\n",
       "  8.6\n",
       " 17.4\n",
       "  9.2\n",
       "  ⋮\n",
       " 15.9\n",
       "  6.7\n",
       " 10.8\n",
       "  9.9\n",
       "  5.9\n",
       " 19.6\n",
       " 17.3\n",
       "  7.6\n",
       "  9.7\n",
       " 12.8\n",
       " 25.5\n",
       " 13.4"
      ]
     },
     "execution_count": 45,
     "metadata": {},
     "output_type": "execute_result"
    }
   ],
   "source": [
    "sales = data[!, \"sales\"]"
   ]
  },
  {
   "cell_type": "code",
   "execution_count": 58,
   "id": "828c9780",
   "metadata": {},
   "outputs": [
    {
     "data": {
      "image/png": "[encoded data removed]",
      "text/plain": [
       "Figure(PyObject <Figure size 640x480 with 1 Axes>)"
      ]
     },
     "metadata": {},
     "output_type": "display_data"
    },
    {
     "data": {
      "text/plain": [
       "PyObject <matplotlib.collections.PathCollection object at 0x7fa7c9185730>"
      ]
     },
     "execution_count": 58,
     "metadata": {},
     "output_type": "execute_result"
    }
   ],
   "source": [
    "scatter(tv, sales)"
   ]
  },
  {
   "cell_type": "code",
   "execution_count": 29,
   "id": "1f0ce178",
   "metadata": {},
   "outputs": [],
   "source": [
    "# yˆi = βˆ0 + βˆ1x"
   ]
  },
  {
   "cell_type": "code",
   "execution_count": 30,
   "id": "5dcd048b",
   "metadata": {},
   "outputs": [],
   "source": [
    "# 𝛽̂=(𝑋^𝑇𝑋)−1𝑋^𝑇𝑦"
   ]
  },
  {
   "cell_type": "code",
   "execution_count": 31,
   "id": "5cb3517c",
   "metadata": {},
   "outputs": [
    {
     "data": {
      "text/plain": [
       "200×2 Matrix{Float64}:\n",
       " 1.0  230.1\n",
       " 1.0   44.5\n",
       " 1.0   17.2\n",
       " 1.0  151.5\n",
       " 1.0  180.8\n",
       " 1.0    8.7\n",
       " 1.0   57.5\n",
       " 1.0  120.2\n",
       " 1.0    8.6\n",
       " 1.0  199.8\n",
       " 1.0   66.1\n",
       " 1.0  214.7\n",
       " 1.0   23.8\n",
       " ⋮    \n",
       " 1.0  286.0\n",
       " 1.0   18.7\n",
       " 1.0   39.5\n",
       " 1.0   75.5\n",
       " 1.0   17.2\n",
       " 1.0  166.8\n",
       " 1.0  149.7\n",
       " 1.0   38.2\n",
       " 1.0   94.2\n",
       " 1.0  177.0\n",
       " 1.0  283.6\n",
       " 1.0  232.1"
      ]
     },
     "execution_count": 31,
     "metadata": {},
     "output_type": "execute_result"
    }
   ],
   "source": [
    "X = hcat(fill(1.0, length(tv)),tv)"
   ]
  },
  {
   "cell_type": "code",
   "execution_count": 32,
   "id": "360b804c",
   "metadata": {},
   "outputs": [
    {
     "data": {
      "text/plain": [
       "200-element Vector{Float64}:\n",
       " 22.1\n",
       " 10.4\n",
       "  9.3\n",
       " 18.5\n",
       " 12.9\n",
       "  7.2\n",
       " 11.8\n",
       " 13.2\n",
       "  4.8\n",
       " 10.6\n",
       "  8.6\n",
       " 17.4\n",
       "  9.2\n",
       "  ⋮\n",
       " 15.9\n",
       "  6.7\n",
       " 10.8\n",
       "  9.9\n",
       "  5.9\n",
       " 19.6\n",
       " 17.3\n",
       "  7.6\n",
       "  9.7\n",
       " 12.8\n",
       " 25.5\n",
       " 13.4"
      ]
     },
     "execution_count": 32,
     "metadata": {},
     "output_type": "execute_result"
    }
   ],
   "source": [
    "Y = sales"
   ]
  },
  {
   "cell_type": "code",
   "execution_count": 33,
   "id": "621dbd78",
   "metadata": {},
   "outputs": [
    {
     "data": {
      "text/plain": [
       "2-element Vector{Float64}:\n",
       " 7.032593549127692\n",
       " 0.04753664043301968"
      ]
     },
     "execution_count": 33,
     "metadata": {},
     "output_type": "execute_result"
    }
   ],
   "source": [
    "B = inv(transpose(X) * X) * transpose(X) * Y"
   ]
  },
  {
   "cell_type": "code",
   "execution_count": 60,
   "id": "e87df252",
   "metadata": {},
   "outputs": [
    {
     "ename": "LoadError",
     "evalue": "(in a Julia function called from Python)\nJULIA: MethodError: no method matching iterate(::var\"#11#12\")\nClosest candidates are:\n  iterate(!Matched::Union{LinRange, StepRangeLen}) at range.jl:664\n  iterate(!Matched::Union{LinRange, StepRangeLen}, !Matched::Int64) at range.jl:664\n  iterate(!Matched::T) where T<:Union{Base.KeySet{var\"#s79\", var\"#s78\"} where {var\"#s79\", var\"#s78\"<:Dict}, Base.ValueIterator{var\"#s77\"} where var\"#s77\"<:Dict} at dict.jl:693\n  ...\nStacktrace:\n  [1] jlwrap_iterator(o::Function)\n    @ PyCall ~/.julia/packages/PyCall/BD546/src/pyiterator.jl:144\n  [2] pyjlwrap_getiter(self_::Ptr{PyCall.PyObject_struct})\n    @ PyCall ~/.julia/packages/PyCall/BD546/src/pyiterator.jl:125\n  [3] macro expansion\n    @ ~/.julia/packages/PyCall/BD546/src/exception.jl:95 [inlined]\n  [4] #107\n    @ ~/.julia/packages/PyCall/BD546/src/pyfncall.jl:43 [inlined]\n  [5] disable_sigint\n    @ ./c.jl:458 [inlined]\n  [6] __pycall!\n    @ ~/.julia/packages/PyCall/BD546/src/pyfncall.jl:42 [inlined]\n  [7] _pycall!(ret::PyCall.PyObject, o::PyCall.PyObject, args::Tuple{var\"#11#12\"}, nargs::Int64, kw::Ptr{Nothing})\n    @ PyCall ~/.julia/packages/PyCall/BD546/src/pyfncall.jl:29\n  [8] _pycall!(ret::PyCall.PyObject, o::PyCall.PyObject, args::Tuple{var\"#11#12\"}, kwargs::Base.Iterators.Pairs{Union{}, Union{}, Tuple{}, NamedTuple{(), Tuple{}}})\n    @ PyCall ~/.julia/packages/PyCall/BD546/src/pyfncall.jl:11\n  [9] pycall(::PyCall.PyObject, ::Type{PyCall.PyAny}, ::Function, ::Vararg{Any, N} where N; kwargs::Base.Iterators.Pairs{Union{}, Union{}, Tuple{}, NamedTuple{(), Tuple{}}})\n    @ PyCall ~/.julia/packages/PyCall/BD546/src/pyfncall.jl:83\n [10] pycall(::PyCall.PyObject, ::Type{PyCall.PyAny}, ::Function, ::Vararg{Any, N} where N)\n    @ PyCall ~/.julia/packages/PyCall/BD546/src/pyfncall.jl:83\n [11] plot(::Function, ::Vararg{Any, N} where N; kws::Base.Iterators.Pairs{Union{}, Union{}, Tuple{}, NamedTuple{(), Tuple{}}})\n    @ PyPlot ~/.julia/packages/PyPlot/XHEG0/src/PyPlot.jl:177\n [12] plot(::Function, ::Vararg{Any, N} where N)\n    @ PyPlot ~/.julia/packages/PyPlot/XHEG0/src/PyPlot.jl:174\n [13] top-level scope\n    @ In[60]:1\n [14] eval\n    @ ./boot.jl:360 [inlined]\n [15] include_string(mapexpr::typeof(REPL.softscope), mod::Module, code::String, filename::String)\n    @ Base ./loading.jl:1116\n [16] softscope_include_string(m::Module, code::String, filename::String)\n    @ SoftGlobalScope ~/.julia/packages/SoftGlobalScope/u4UzH/src/SoftGlobalScope.jl:65\n [17] execute_request(socket::ZMQ.Socket, msg::IJulia.Msg)\n    @ IJulia ~/.julia/packages/IJulia/e8kqU/src/execute_request.jl:67\n [18] #invokelatest#2\n    @ ./essentials.jl:708 [inlined]\n [19] invokelatest\n    @ ./essentials.jl:706 [inlined]\n [20] eventloop(socket::ZMQ.Socket)\n    @ IJulia ~/.julia/packages/IJulia/e8kqU/src/eventloop.jl:8\n [21] (::IJulia.var\"#15#18\")()\n    @ IJulia ./task.jl:411",
     "output_type": "error",
     "traceback": [
      "(in a Julia function called from Python)\nJULIA: MethodError: no method matching iterate(::var\"#11#12\")\nClosest candidates are:\n  iterate(!Matched::Union{LinRange, StepRangeLen}) at range.jl:664\n  iterate(!Matched::Union{LinRange, StepRangeLen}, !Matched::Int64) at range.jl:664\n  iterate(!Matched::T) where T<:Union{Base.KeySet{var\"#s79\", var\"#s78\"} where {var\"#s79\", var\"#s78\"<:Dict}, Base.ValueIterator{var\"#s77\"} where var\"#s77\"<:Dict} at dict.jl:693\n  ...\nStacktrace:\n  [1] jlwrap_iterator(o::Function)\n    @ PyCall ~/.julia/packages/PyCall/BD546/src/pyiterator.jl:144\n  [2] pyjlwrap_getiter(self_::Ptr{PyCall.PyObject_struct})\n    @ PyCall ~/.julia/packages/PyCall/BD546/src/pyiterator.jl:125\n  [3] macro expansion\n    @ ~/.julia/packages/PyCall/BD546/src/exception.jl:95 [inlined]\n  [4] #107\n    @ ~/.julia/packages/PyCall/BD546/src/pyfncall.jl:43 [inlined]\n  [5] disable_sigint\n    @ ./c.jl:458 [inlined]\n  [6] __pycall!\n    @ ~/.julia/packages/PyCall/BD546/src/pyfncall.jl:42 [inlined]\n  [7] _pycall!(ret::PyCall.PyObject, o::PyCall.PyObject, args::Tuple{var\"#11#12\"}, nargs::Int64, kw::Ptr{Nothing})\n    @ PyCall ~/.julia/packages/PyCall/BD546/src/pyfncall.jl:29\n  [8] _pycall!(ret::PyCall.PyObject, o::PyCall.PyObject, args::Tuple{var\"#11#12\"}, kwargs::Base.Iterators.Pairs{Union{}, Union{}, Tuple{}, NamedTuple{(), Tuple{}}})\n    @ PyCall ~/.julia/packages/PyCall/BD546/src/pyfncall.jl:11\n  [9] pycall(::PyCall.PyObject, ::Type{PyCall.PyAny}, ::Function, ::Vararg{Any, N} where N; kwargs::Base.Iterators.Pairs{Union{}, Union{}, Tuple{}, NamedTuple{(), Tuple{}}})\n    @ PyCall ~/.julia/packages/PyCall/BD546/src/pyfncall.jl:83\n [10] pycall(::PyCall.PyObject, ::Type{PyCall.PyAny}, ::Function, ::Vararg{Any, N} where N)\n    @ PyCall ~/.julia/packages/PyCall/BD546/src/pyfncall.jl:83\n [11] plot(::Function, ::Vararg{Any, N} where N; kws::Base.Iterators.Pairs{Union{}, Union{}, Tuple{}, NamedTuple{(), Tuple{}}})\n    @ PyPlot ~/.julia/packages/PyPlot/XHEG0/src/PyPlot.jl:177\n [12] plot(::Function, ::Vararg{Any, N} where N)\n    @ PyPlot ~/.julia/packages/PyPlot/XHEG0/src/PyPlot.jl:174\n [13] top-level scope\n    @ In[60]:1\n [14] eval\n    @ ./boot.jl:360 [inlined]\n [15] include_string(mapexpr::typeof(REPL.softscope), mod::Module, code::String, filename::String)\n    @ Base ./loading.jl:1116\n [16] softscope_include_string(m::Module, code::String, filename::String)\n    @ SoftGlobalScope ~/.julia/packages/SoftGlobalScope/u4UzH/src/SoftGlobalScope.jl:65\n [17] execute_request(socket::ZMQ.Socket, msg::IJulia.Msg)\n    @ IJulia ~/.julia/packages/IJulia/e8kqU/src/execute_request.jl:67\n [18] #invokelatest#2\n    @ ./essentials.jl:708 [inlined]\n [19] invokelatest\n    @ ./essentials.jl:706 [inlined]\n [20] eventloop(socket::ZMQ.Socket)\n    @ IJulia ~/.julia/packages/IJulia/e8kqU/src/eventloop.jl:8\n [21] (::IJulia.var\"#15#18\")()\n    @ IJulia ./task.jl:411",
      "",
      "Stacktrace:",
      "  [1] pyerr_check",
      "    @ ~/.julia/packages/PyCall/BD546/src/exception.jl:62 [inlined]",
      "  [2] pyerr_check",
      "    @ ~/.julia/packages/PyCall/BD546/src/exception.jl:66 [inlined]",
      "  [3] _handle_error(msg::String)",
      "    @ PyCall ~/.julia/packages/PyCall/BD546/src/exception.jl:83",
      "  [4] macro expansion",
      "    @ ~/.julia/packages/PyCall/BD546/src/exception.jl:97 [inlined]",
      "  [5] #107",
      "    @ ~/.julia/packages/PyCall/BD546/src/pyfncall.jl:43 [inlined]",
      "  [6] disable_sigint",
      "    @ ./c.jl:458 [inlined]",
      "  [7] __pycall!",
      "    @ ~/.julia/packages/PyCall/BD546/src/pyfncall.jl:42 [inlined]",
      "  [8] _pycall!(ret::PyCall.PyObject, o::PyCall.PyObject, args::Tuple{var\"#11#12\"}, nargs::Int64, kw::Ptr{Nothing})",
      "    @ PyCall ~/.julia/packages/PyCall/BD546/src/pyfncall.jl:29",
      "  [9] _pycall!(ret::PyCall.PyObject, o::PyCall.PyObject, args::Tuple{var\"#11#12\"}, kwargs::Base.Iterators.Pairs{Union{}, Union{}, Tuple{}, NamedTuple{(), Tuple{}}})",
      "    @ PyCall ~/.julia/packages/PyCall/BD546/src/pyfncall.jl:11",
      " [10] pycall(::PyCall.PyObject, ::Type{PyCall.PyAny}, ::Function, ::Vararg{Any, N} where N; kwargs::Base.Iterators.Pairs{Union{}, Union{}, Tuple{}, NamedTuple{(), Tuple{}}})",
      "    @ PyCall ~/.julia/packages/PyCall/BD546/src/pyfncall.jl:83",
      " [11] pycall(::PyCall.PyObject, ::Type{PyCall.PyAny}, ::Function, ::Vararg{Any, N} where N)",
      "    @ PyCall ~/.julia/packages/PyCall/BD546/src/pyfncall.jl:83",
      " [12] plot(::Function, ::Vararg{Any, N} where N; kws::Base.Iterators.Pairs{Union{}, Union{}, Tuple{}, NamedTuple{(), Tuple{}}})",
      "    @ PyPlot ~/.julia/packages/PyPlot/XHEG0/src/PyPlot.jl:177",
      " [13] plot(::Function, ::Vararg{Any, N} where N)",
      "    @ PyPlot ~/.julia/packages/PyPlot/XHEG0/src/PyPlot.jl:174",
      " [14] top-level scope",
      "    @ In[60]:1",
      " [15] eval",
      "    @ ./boot.jl:360 [inlined]",
      " [16] include_string(mapexpr::typeof(REPL.softscope), mod::Module, code::String, filename::String)",
      "    @ Base ./loading.jl:1116"
     ]
    }
   ],
   "source": [
    "plot(x -> B[1] + B[2] * x)"
   ]
  },
  {
   "cell_type": "code",
   "execution_count": 35,
   "id": "25532acc",
   "metadata": {},
   "outputs": [
    {
     "data": {
      "image/png": "[encoded data removed]",
      "text/plain": [
       "Figure(PyObject <Figure size 640x480 with 1 Axes>)"
      ]
     },
     "metadata": {},
     "output_type": "display_data"
    },
    {
     "data": {
      "text/plain": [
       "PyObject <matplotlib.collections.PathCollection object at 0x7fa7d2b92f70>"
      ]
     },
     "execution_count": 35,
     "metadata": {},
     "output_type": "execute_result"
    }
   ],
   "source": [
    "scatter(tv, sales)"
   ]
  },
  {
   "cell_type": "code",
   "execution_count": null,
   "id": "5ea31e37",
   "metadata": {},
   "outputs": [],
   "source": []
  },
  {
   "cell_type": "code",
   "execution_count": 36,
   "id": "2a7ac585",
   "metadata": {},
   "outputs": [],
   "source": [
    "using PyPlot\n"
   ]
  },
  {
   "cell_type": "code",
   "execution_count": 37,
   "id": "bb15fba0",
   "metadata": {},
   "outputs": [
    {
     "data": {
      "text/plain": [
       "PyObject <module 'matplotlib.pyplot' from '/Users/edrlab/.julia/conda/3/lib/python3.9/site-packages/matplotlib/pyplot.py'>"
      ]
     },
     "execution_count": 37,
     "metadata": {},
     "output_type": "execute_result"
    }
   ],
   "source": [
    "p = plt"
   ]
  },
  {
   "cell_type": "code",
   "execution_count": 38,
   "id": "212057e5",
   "metadata": {},
   "outputs": [
    {
     "ename": "LoadError",
     "evalue": "(in a Julia function called from Python)\nJULIA: MethodError: no method matching iterate(::var\"#7#8\")\nClosest candidates are:\n  iterate(!Matched::Union{LinRange, StepRangeLen}) at range.jl:664\n  iterate(!Matched::Union{LinRange, StepRangeLen}, !Matched::Int64) at range.jl:664\n  iterate(!Matched::T) where T<:Union{Base.KeySet{var\"#s79\", var\"#s78\"} where {var\"#s79\", var\"#s78\"<:Dict}, Base.ValueIterator{var\"#s77\"} where var\"#s77\"<:Dict} at dict.jl:693\n  ...\nStacktrace:\n  [1] jlwrap_iterator(o::Function)\n    @ PyCall ~/.julia/packages/PyCall/BD546/src/pyiterator.jl:144\n  [2] pyjlwrap_getiter(self_::Ptr{PyCall.PyObject_struct})\n    @ PyCall ~/.julia/packages/PyCall/BD546/src/pyiterator.jl:125\n  [3] macro expansion\n    @ ~/.julia/packages/PyCall/BD546/src/exception.jl:95 [inlined]\n  [4] #107\n    @ ~/.julia/packages/PyCall/BD546/src/pyfncall.jl:43 [inlined]\n  [5] disable_sigint\n    @ ./c.jl:458 [inlined]\n  [6] __pycall!\n    @ ~/.julia/packages/PyCall/BD546/src/pyfncall.jl:42 [inlined]\n  [7] _pycall!(ret::PyCall.PyObject, o::PyCall.PyObject, args::Tuple{var\"#7#8\"}, nargs::Int64, kw::Ptr{Nothing})\n    @ PyCall ~/.julia/packages/PyCall/BD546/src/pyfncall.jl:29\n  [8] _pycall!(ret::PyCall.PyObject, o::PyCall.PyObject, args::Tuple{var\"#7#8\"}, kwargs::Base.Iterators.Pairs{Union{}, Union{}, Tuple{}, NamedTuple{(), Tuple{}}})\n    @ PyCall ~/.julia/packages/PyCall/BD546/src/pyfncall.jl:11\n  [9] (::PyCall.PyObject)(args::Function; kwargs::Base.Iterators.Pairs{Union{}, Union{}, Tuple{}, NamedTuple{(), Tuple{}}})\n    @ PyCall ~/.julia/packages/PyCall/BD546/src/pyfncall.jl:86\n [10] (::PyCall.PyObject)(args::Function)\n    @ PyCall ~/.julia/packages/PyCall/BD546/src/pyfncall.jl:86\n [11] top-level scope\n    @ In[38]:3\n [12] eval\n    @ ./boot.jl:360 [inlined]\n [13] include_string(mapexpr::typeof(REPL.softscope), mod::Module, code::String, filename::String)\n    @ Base ./loading.jl:1116\n [14] softscope_include_string(m::Module, code::String, filename::String)\n    @ SoftGlobalScope ~/.julia/packages/SoftGlobalScope/u4UzH/src/SoftGlobalScope.jl:65\n [15] execute_request(socket::ZMQ.Socket, msg::IJulia.Msg)\n    @ IJulia ~/.julia/packages/IJulia/e8kqU/src/execute_request.jl:67\n [16] #invokelatest#2\n    @ ./essentials.jl:708 [inlined]\n [17] invokelatest\n    @ ./essentials.jl:706 [inlined]\n [18] eventloop(socket::ZMQ.Socket)\n    @ IJulia ~/.julia/packages/IJulia/e8kqU/src/eventloop.jl:8\n [19] (::IJulia.var\"#15#18\")()\n    @ IJulia ./task.jl:411",
     "output_type": "error",
     "traceback": [
      "(in a Julia function called from Python)\nJULIA: MethodError: no method matching iterate(::var\"#7#8\")\nClosest candidates are:\n  iterate(!Matched::Union{LinRange, StepRangeLen}) at range.jl:664\n  iterate(!Matched::Union{LinRange, StepRangeLen}, !Matched::Int64) at range.jl:664\n  iterate(!Matched::T) where T<:Union{Base.KeySet{var\"#s79\", var\"#s78\"} where {var\"#s79\", var\"#s78\"<:Dict}, Base.ValueIterator{var\"#s77\"} where var\"#s77\"<:Dict} at dict.jl:693\n  ...\nStacktrace:\n  [1] jlwrap_iterator(o::Function)\n    @ PyCall ~/.julia/packages/PyCall/BD546/src/pyiterator.jl:144\n  [2] pyjlwrap_getiter(self_::Ptr{PyCall.PyObject_struct})\n    @ PyCall ~/.julia/packages/PyCall/BD546/src/pyiterator.jl:125\n  [3] macro expansion\n    @ ~/.julia/packages/PyCall/BD546/src/exception.jl:95 [inlined]\n  [4] #107\n    @ ~/.julia/packages/PyCall/BD546/src/pyfncall.jl:43 [inlined]\n  [5] disable_sigint\n    @ ./c.jl:458 [inlined]\n  [6] __pycall!\n    @ ~/.julia/packages/PyCall/BD546/src/pyfncall.jl:42 [inlined]\n  [7] _pycall!(ret::PyCall.PyObject, o::PyCall.PyObject, args::Tuple{var\"#7#8\"}, nargs::Int64, kw::Ptr{Nothing})\n    @ PyCall ~/.julia/packages/PyCall/BD546/src/pyfncall.jl:29\n  [8] _pycall!(ret::PyCall.PyObject, o::PyCall.PyObject, args::Tuple{var\"#7#8\"}, kwargs::Base.Iterators.Pairs{Union{}, Union{}, Tuple{}, NamedTuple{(), Tuple{}}})\n    @ PyCall ~/.julia/packages/PyCall/BD546/src/pyfncall.jl:11\n  [9] (::PyCall.PyObject)(args::Function; kwargs::Base.Iterators.Pairs{Union{}, Union{}, Tuple{}, NamedTuple{(), Tuple{}}})\n    @ PyCall ~/.julia/packages/PyCall/BD546/src/pyfncall.jl:86\n [10] (::PyCall.PyObject)(args::Function)\n    @ PyCall ~/.julia/packages/PyCall/BD546/src/pyfncall.jl:86\n [11] top-level scope\n    @ In[38]:3\n [12] eval\n    @ ./boot.jl:360 [inlined]\n [13] include_string(mapexpr::typeof(REPL.softscope), mod::Module, code::String, filename::String)\n    @ Base ./loading.jl:1116\n [14] softscope_include_string(m::Module, code::String, filename::String)\n    @ SoftGlobalScope ~/.julia/packages/SoftGlobalScope/u4UzH/src/SoftGlobalScope.jl:65\n [15] execute_request(socket::ZMQ.Socket, msg::IJulia.Msg)\n    @ IJulia ~/.julia/packages/IJulia/e8kqU/src/execute_request.jl:67\n [16] #invokelatest#2\n    @ ./essentials.jl:708 [inlined]\n [17] invokelatest\n    @ ./essentials.jl:706 [inlined]\n [18] eventloop(socket::ZMQ.Socket)\n    @ IJulia ~/.julia/packages/IJulia/e8kqU/src/eventloop.jl:8\n [19] (::IJulia.var\"#15#18\")()\n    @ IJulia ./task.jl:411",
      "",
      "Stacktrace:",
      "  [1] pyerr_check",
      "    @ ~/.julia/packages/PyCall/BD546/src/exception.jl:62 [inlined]",
      "  [2] pyerr_check",
      "    @ ~/.julia/packages/PyCall/BD546/src/exception.jl:66 [inlined]",
      "  [3] _handle_error(msg::String)",
      "    @ PyCall ~/.julia/packages/PyCall/BD546/src/exception.jl:83",
      "  [4] macro expansion",
      "    @ ~/.julia/packages/PyCall/BD546/src/exception.jl:97 [inlined]",
      "  [5] #107",
      "    @ ~/.julia/packages/PyCall/BD546/src/pyfncall.jl:43 [inlined]",
      "  [6] disable_sigint",
      "    @ ./c.jl:458 [inlined]",
      "  [7] __pycall!",
      "    @ ~/.julia/packages/PyCall/BD546/src/pyfncall.jl:42 [inlined]",
      "  [8] _pycall!(ret::PyCall.PyObject, o::PyCall.PyObject, args::Tuple{var\"#7#8\"}, nargs::Int64, kw::Ptr{Nothing})",
      "    @ PyCall ~/.julia/packages/PyCall/BD546/src/pyfncall.jl:29",
      "  [9] _pycall!(ret::PyCall.PyObject, o::PyCall.PyObject, args::Tuple{var\"#7#8\"}, kwargs::Base.Iterators.Pairs{Union{}, Union{}, Tuple{}, NamedTuple{(), Tuple{}}})",
      "    @ PyCall ~/.julia/packages/PyCall/BD546/src/pyfncall.jl:11",
      " [10] (::PyCall.PyObject)(args::Function; kwargs::Base.Iterators.Pairs{Union{}, Union{}, Tuple{}, NamedTuple{(), Tuple{}}})",
      "    @ PyCall ~/.julia/packages/PyCall/BD546/src/pyfncall.jl:86",
      " [11] (::PyCall.PyObject)(args::Function)",
      "    @ PyCall ~/.julia/packages/PyCall/BD546/src/pyfncall.jl:86",
      " [12] top-level scope",
      "    @ In[38]:3",
      " [13] eval",
      "    @ ./boot.jl:360 [inlined]",
      " [14] include_string(mapexpr::typeof(REPL.softscope), mod::Module, code::String, filename::String)",
      "    @ Base ./loading.jl:1116"
     ]
    }
   ],
   "source": [
    "plt.ioff()\n",
    "plt.scatter(tv, sales)\n",
    "plt.plot(x -> x)\n",
    "plt.show()"
   ]
  },
  {
   "cell_type": "code",
   "execution_count": 39,
   "id": "04dbef89",
   "metadata": {},
   "outputs": [],
   "source": [
    "using Gadfly\n"
   ]
  },
  {
   "cell_type": "code",
   "execution_count": 40,
   "id": "6a3d7827",
   "metadata": {},
   "outputs": [
    {
     "ename": "LoadError",
     "evalue": "(in a Julia function called from Python)\nJULIA: MethodError: no method matching iterate(::Layer)\nClosest candidates are:\n  iterate(!Matched::Union{LinRange, StepRangeLen}) at range.jl:664\n  iterate(!Matched::Union{LinRange, StepRangeLen}, !Matched::Int64) at range.jl:664\n  iterate(!Matched::T) where T<:Union{Base.KeySet{var\"#s79\", var\"#s78\"} where {var\"#s79\", var\"#s78\"<:Dict}, Base.ValueIterator{var\"#s77\"} where var\"#s77\"<:Dict} at dict.jl:693\n  ...\nStacktrace:\n  [1] jlwrap_iterator(o::Layer)\n    @ PyCall ~/.julia/packages/PyCall/BD546/src/pyiterator.jl:144\n  [2] pyjlwrap_getiter(self_::Ptr{PyCall.PyObject_struct})\n    @ PyCall ~/.julia/packages/PyCall/BD546/src/pyiterator.jl:125\n  [3] macro expansion\n    @ ~/.julia/packages/PyCall/BD546/src/exception.jl:95 [inlined]\n  [4] #107\n    @ ~/.julia/packages/PyCall/BD546/src/pyfncall.jl:43 [inlined]\n  [5] disable_sigint\n    @ ./c.jl:458 [inlined]\n  [6] __pycall!\n    @ ~/.julia/packages/PyCall/BD546/src/pyfncall.jl:42 [inlined]\n  [7] _pycall!(ret::PyCall.PyObject, o::PyCall.PyObject, args::Tuple{Vector{Layer}}, nargs::Int64, kw::Ptr{Nothing})\n    @ PyCall ~/.julia/packages/PyCall/BD546/src/pyfncall.jl:29\n  [8] _pycall!\n    @ ~/.julia/packages/PyCall/BD546/src/pyfncall.jl:11 [inlined]\n  [9] #pycall#113\n    @ ~/.julia/packages/PyCall/BD546/src/pyfncall.jl:83 [inlined]\n [10] pycall\n    @ ~/.julia/packages/PyCall/BD546/src/pyfncall.jl:83 [inlined]\n [11] plot(args::Vector{Layer}; kws::Base.Iterators.Pairs{Union{}, Union{}, Tuple{}, NamedTuple{(), Tuple{}}})\n    @ PyPlot ~/.julia/packages/PyPlot/XHEG0/src/PyPlot.jl:177\n [12] plot(args::Vector{Layer})\n    @ PyPlot ~/.julia/packages/PyPlot/XHEG0/src/PyPlot.jl:174\n [13] top-level scope\n    @ In[40]:3\n [14] eval\n    @ ./boot.jl:360 [inlined]\n [15] include_string(mapexpr::typeof(REPL.softscope), mod::Module, code::String, filename::String)\n    @ Base ./loading.jl:1116\n [16] softscope_include_string(m::Module, code::String, filename::String)\n    @ SoftGlobalScope ~/.julia/packages/SoftGlobalScope/u4UzH/src/SoftGlobalScope.jl:65\n [17] execute_request(socket::ZMQ.Socket, msg::IJulia.Msg)\n    @ IJulia ~/.julia/packages/IJulia/e8kqU/src/execute_request.jl:67\n [18] #invokelatest#2\n    @ ./essentials.jl:708 [inlined]\n [19] invokelatest\n    @ ./essentials.jl:706 [inlined]\n [20] eventloop(socket::ZMQ.Socket)\n    @ IJulia ~/.julia/packages/IJulia/e8kqU/src/eventloop.jl:8\n [21] (::IJulia.var\"#15#18\")()\n    @ IJulia ./task.jl:411",
     "output_type": "error",
     "traceback": [
      "(in a Julia function called from Python)\nJULIA: MethodError: no method matching iterate(::Layer)\nClosest candidates are:\n  iterate(!Matched::Union{LinRange, StepRangeLen}) at range.jl:664\n  iterate(!Matched::Union{LinRange, StepRangeLen}, !Matched::Int64) at range.jl:664\n  iterate(!Matched::T) where T<:Union{Base.KeySet{var\"#s79\", var\"#s78\"} where {var\"#s79\", var\"#s78\"<:Dict}, Base.ValueIterator{var\"#s77\"} where var\"#s77\"<:Dict} at dict.jl:693\n  ...\nStacktrace:\n  [1] jlwrap_iterator(o::Layer)\n    @ PyCall ~/.julia/packages/PyCall/BD546/src/pyiterator.jl:144\n  [2] pyjlwrap_getiter(self_::Ptr{PyCall.PyObject_struct})\n    @ PyCall ~/.julia/packages/PyCall/BD546/src/pyiterator.jl:125\n  [3] macro expansion\n    @ ~/.julia/packages/PyCall/BD546/src/exception.jl:95 [inlined]\n  [4] #107\n    @ ~/.julia/packages/PyCall/BD546/src/pyfncall.jl:43 [inlined]\n  [5] disable_sigint\n    @ ./c.jl:458 [inlined]\n  [6] __pycall!\n    @ ~/.julia/packages/PyCall/BD546/src/pyfncall.jl:42 [inlined]\n  [7] _pycall!(ret::PyCall.PyObject, o::PyCall.PyObject, args::Tuple{Vector{Layer}}, nargs::Int64, kw::Ptr{Nothing})\n    @ PyCall ~/.julia/packages/PyCall/BD546/src/pyfncall.jl:29\n  [8] _pycall!\n    @ ~/.julia/packages/PyCall/BD546/src/pyfncall.jl:11 [inlined]\n  [9] #pycall#113\n    @ ~/.julia/packages/PyCall/BD546/src/pyfncall.jl:83 [inlined]\n [10] pycall\n    @ ~/.julia/packages/PyCall/BD546/src/pyfncall.jl:83 [inlined]\n [11] plot(args::Vector{Layer}; kws::Base.Iterators.Pairs{Union{}, Union{}, Tuple{}, NamedTuple{(), Tuple{}}})\n    @ PyPlot ~/.julia/packages/PyPlot/XHEG0/src/PyPlot.jl:177\n [12] plot(args::Vector{Layer})\n    @ PyPlot ~/.julia/packages/PyPlot/XHEG0/src/PyPlot.jl:174\n [13] top-level scope\n    @ In[40]:3\n [14] eval\n    @ ./boot.jl:360 [inlined]\n [15] include_string(mapexpr::typeof(REPL.softscope), mod::Module, code::String, filename::String)\n    @ Base ./loading.jl:1116\n [16] softscope_include_string(m::Module, code::String, filename::String)\n    @ SoftGlobalScope ~/.julia/packages/SoftGlobalScope/u4UzH/src/SoftGlobalScope.jl:65\n [17] execute_request(socket::ZMQ.Socket, msg::IJulia.Msg)\n    @ IJulia ~/.julia/packages/IJulia/e8kqU/src/execute_request.jl:67\n [18] #invokelatest#2\n    @ ./essentials.jl:708 [inlined]\n [19] invokelatest\n    @ ./essentials.jl:706 [inlined]\n [20] eventloop(socket::ZMQ.Socket)\n    @ IJulia ~/.julia/packages/IJulia/e8kqU/src/eventloop.jl:8\n [21] (::IJulia.var\"#15#18\")()\n    @ IJulia ./task.jl:411",
      "",
      "Stacktrace:",
      "  [1] pyerr_check",
      "    @ ~/.julia/packages/PyCall/BD546/src/exception.jl:62 [inlined]",
      "  [2] pyerr_check",
      "    @ ~/.julia/packages/PyCall/BD546/src/exception.jl:66 [inlined]",
      "  [3] _handle_error(msg::String)",
      "    @ PyCall ~/.julia/packages/PyCall/BD546/src/exception.jl:83",
      "  [4] macro expansion",
      "    @ ~/.julia/packages/PyCall/BD546/src/exception.jl:97 [inlined]",
      "  [5] #107",
      "    @ ~/.julia/packages/PyCall/BD546/src/pyfncall.jl:43 [inlined]",
      "  [6] disable_sigint",
      "    @ ./c.jl:458 [inlined]",
      "  [7] __pycall!",
      "    @ ~/.julia/packages/PyCall/BD546/src/pyfncall.jl:42 [inlined]",
      "  [8] _pycall!(ret::PyCall.PyObject, o::PyCall.PyObject, args::Tuple{Vector{Layer}}, nargs::Int64, kw::Ptr{Nothing})",
      "    @ PyCall ~/.julia/packages/PyCall/BD546/src/pyfncall.jl:29",
      "  [9] _pycall!",
      "    @ ~/.julia/packages/PyCall/BD546/src/pyfncall.jl:11 [inlined]",
      " [10] #pycall#113",
      "    @ ~/.julia/packages/PyCall/BD546/src/pyfncall.jl:83 [inlined]",
      " [11] pycall",
      "    @ ~/.julia/packages/PyCall/BD546/src/pyfncall.jl:83 [inlined]",
      " [12] plot(args::Vector{Layer}; kws::Base.Iterators.Pairs{Union{}, Union{}, Tuple{}, NamedTuple{(), Tuple{}}})",
      "    @ PyPlot ~/.julia/packages/PyPlot/XHEG0/src/PyPlot.jl:177",
      " [13] plot(args::Vector{Layer})",
      "    @ PyPlot ~/.julia/packages/PyPlot/XHEG0/src/PyPlot.jl:174",
      " [14] top-level scope",
      "    @ In[40]:3",
      " [15] eval",
      "    @ ./boot.jl:360 [inlined]",
      " [16] include_string(mapexpr::typeof(REPL.softscope), mod::Module, code::String, filename::String)",
      "    @ Base ./loading.jl:1116"
     ]
    }
   ],
   "source": [
    "point = layer(x=rand(10), y=rand(10), Geom.point, Geom.line)\n",
    "line = layer(x=rand(10), y=rand(10), Geom.point, Geom.line)\n",
    "plot(line, )"
   ]
  },
  {
   "cell_type": "code",
   "execution_count": null,
   "id": "76663805",
   "metadata": {},
   "outputs": [],
   "source": []
  }
 ],
 "metadata": {
  "kernelspec": {
   "display_name": "Julia 1.6.2",
   "language": "julia",
   "name": "julia-1.6"
  },
  "language_info": {
   "file_extension": ".jl",
   "mimetype": "application/julia",
   "name": "julia",
   "version": "1.6.2"
  }
 },
 "nbformat": 4,
 "nbformat_minor": 5
}
